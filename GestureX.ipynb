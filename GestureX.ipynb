{
  "nbformat": 4,
  "nbformat_minor": 0,
  "metadata": {
    "colab": {
      "provenance": []
    },
    "kernelspec": {
      "name": "python3",
      "display_name": "Python 3"
    },
    "language_info": {
      "name": "python"
    }
  },
  "cells": [
    {
      "cell_type": "markdown",
      "source": [
        "# **Gesture X** - Virtual Drawing with Hand Gestures"
      ],
      "metadata": {
        "id": "f60eGNrWq1rD"
      }
    },
    {
      "cell_type": "markdown",
      "source": [
        "GestureX is a computer vision-based virtual drawing application that lets users draw on the screen using only their hand gestures. Powered by OpenCV and MediaPipe, this project tracks hand landmarks in real-time using a webcam and allows users to switch between colours or an eraser by moving their hands to different areas of the screen."
      ],
      "metadata": {
        "id": "ekBHnHQVlelK"
      }
    },
    {
      "cell_type": "markdown",
      "source": [
        "# **Installation**"
      ],
      "metadata": {
        "id": "dFXGCk3arWQn"
      }
    },
    {
      "cell_type": "markdown",
      "source": [
        "1. Python"
      ],
      "metadata": {
        "id": "d1ytCoeWm4-3"
      }
    },
    {
      "cell_type": "markdown",
      "source": [
        "Python\n",
        "*(Installed version should be Python 3.11.9 as it is compatible with media pipe)*\n",
        "\n",
        "Download it from: [Python 3.11.9 Download](https://www.python.org/downloads/release/python-3119/)\n",
        "\n",
        "To check installation:\n",
        "```\n",
        "python --version\n",
        "```\n",
        "\n"
      ],
      "metadata": {
        "id": "2gLloS00lww1"
      }
    },
    {
      "cell_type": "markdown",
      "source": [
        "2. OpenCV, NumPy & MediaPipe"
      ],
      "metadata": {
        "id": "9eXCjP1om7VL"
      }
    },
    {
      "cell_type": "markdown",
      "source": [
        "Execute the following commands in order:\n",
        "\n",
        "```\n",
        "python -m pip install --upgrade pip\n",
        "\n",
        "pip install opencv-python\n",
        "\n",
        "pip install numpy\n",
        "\n",
        "pip install mediapipe\n",
        "```\n",
        "To confirm if everything works fine, open vscode and create a .py file and type:\n",
        "```\n",
        "import cv2\n",
        "import numpy as np\n",
        "import mediapipe as mp\n",
        "\n",
        "print(\"OpenCV version:\", cv2.__version__)\n",
        "print(\"NumPy version:\", np.__version__)\n",
        "print(\"MediaPipe is working!\")\n",
        "```\n",
        "If it runs without errors, your installation is fine.\n"
      ],
      "metadata": {
        "id": "1uZ3FuLNnDTC"
      }
    },
    {
      "cell_type": "markdown",
      "source": [
        "# **HandTrackingModule.py**"
      ],
      "metadata": {
        "id": "HhjYQaWTrGEz"
      }
    },
    {
      "cell_type": "markdown",
      "source": [
        "\n",
        "\n",
        "```\n",
        "import cv2\n",
        "import mediapipe as mp\n",
        "import math\n",
        "import time\n",
        "import numpy as np\n",
        "\n",
        "class handDetector():\n",
        "    def __init__(self, mode=False, maxHands=2, detectionCon=0.5, trackCon=0.5):\n",
        "        self.mode = mode\n",
        "        self.maxHands = maxHands\n",
        "        self.detectionCon = detectionCon\n",
        "        self.trackCon = trackCon\n",
        "\n",
        "        self.mpHands = mp.solutions.hands\n",
        "        self.hands = self.mpHands.Hands(static_image_mode=self.mode,\n",
        "                                max_num_hands=self.maxHands,\n",
        "                                min_detection_confidence=self.detectionCon,\n",
        "                                min_tracking_confidence=self.trackCon)\n",
        "        self.mpDraw = mp.solutions.drawing_utils\n",
        "        self.tipIds = [4, 8, 12, 16, 20]\n",
        "\n",
        "    def findHands(self, img, draw=True):\n",
        "        imgRGB = cv2.cvtColor(img, cv2.COLOR_BGR2RGB)\n",
        "        self.results = self.hands.process(imgRGB)\n",
        "\n",
        "        if self.results.multi_hand_landmarks:\n",
        "            for handLms in self.results.multi_hand_landmarks:\n",
        "                if draw:\n",
        "                    self.mpDraw.draw_landmarks(img, handLms, self.mpHands.HAND_CONNECTIONS)\n",
        "\n",
        "        return img\n",
        "\n",
        "    def findPosition(self, img, handNo=0, draw=True):\n",
        "        xList, yList, bbox = [], [], []\n",
        "        self.lmList = []\n",
        "\n",
        "        if self.results.multi_hand_landmarks:\n",
        "            myHand = self.results.multi_hand_landmarks[handNo]\n",
        "            for id, lm in enumerate(myHand.landmark):\n",
        "                h, w, _ = img.shape\n",
        "                cx, cy = int(lm.x * w), int(lm.y * h)\n",
        "                xList.append(cx)\n",
        "                yList.append(cy)\n",
        "                self.lmList.append([id, cx, cy])\n",
        "                if draw:\n",
        "                    cv2.circle(img, (cx, cy), 5, (255, 0, 255), cv2.FILLED)\n",
        "\n",
        "            xmin, xmax = min(xList), max(xList)\n",
        "            ymin, ymax = min(yList), max(yList)\n",
        "            bbox = xmin, ymin, xmax, ymax\n",
        "\n",
        "            if draw:\n",
        "                cv2.rectangle(img, (xmin - 20, ymin - 20), (xmax + 20, ymax + 20),\n",
        "                              (0, 255, 0), 2)\n",
        "\n",
        "        return self.lmList, bbox\n",
        "\n",
        "    def fingersUp(self):\n",
        "        fingers = []\n",
        "\n",
        "        if self.lmList[self.tipIds[0]][1] > self.lmList[self.tipIds[0] - 1][1]:\n",
        "            fingers.append(1)\n",
        "        else:\n",
        "            fingers.append(0)\n",
        "\n",
        "        for id in range(1, 5):\n",
        "            if self.lmList[self.tipIds[id]][2] < self.lmList[self.tipIds[id] - 2][2]:\n",
        "                fingers.append(1)\n",
        "            else:\n",
        "                fingers.append(0)\n",
        "\n",
        "        return fingers\n",
        "\n",
        "    def findDistance(self, p1, p2, img, draw=True, r=15, t=3):\n",
        "        x1, y1 = self.lmList[p1][1:]\n",
        "        x2, y2 = self.lmList[p2][1:]\n",
        "        cx, cy = (x1 + x2) // 2, (y1 + y2) // 2\n",
        "\n",
        "        if draw:\n",
        "            cv2.line(img, (x1, y1), (x2, y2), (255, 0, 255), t)\n",
        "            cv2.circle(img, (x1, y1), r, (255, 0, 255), cv2.FILLED)\n",
        "            cv2.circle(img, (x2, y2), r, (255, 0, 255), cv2.FILLED)\n",
        "            cv2.circle(img, (cx, cy), r, (0, 0, 255), cv2.FILLED)\n",
        "\n",
        "        length = math.hypot(x2 - x1, y2 - y1)\n",
        "        return length, img, [x1, y1, x2, y2, cx, cy]\n",
        "\n",
        "```\n",
        "\n"
      ],
      "metadata": {
        "id": "av1xnxkBqF4-"
      }
    },
    {
      "cell_type": "markdown",
      "source": [
        "# **Painter.py**"
      ],
      "metadata": {
        "id": "f1WbdrwCrQ8G"
      }
    },
    {
      "cell_type": "markdown",
      "source": [
        "\n",
        "\n",
        "```\n",
        "import cv2\n",
        "import numpy as np\n",
        "import os\n",
        "import HandTrackingModule as htm\n",
        "\n",
        "brushThickness = 15\n",
        "eraserThickness = 50\n",
        "\n",
        "# Load toolbar images\n",
        "folderPath = \"C:/Users/Username/Desktop/GestureX/Header\"\n",
        "myList = os.listdir(folderPath)\n",
        "overlayList = [cv2.imread(f'{folderPath}/{imPath}') for imPath in myList]\n",
        "\n",
        "header = overlayList[0]  # Default header\n",
        "drawColor = (128, 0, 128)  # Set default to Purple\n",
        "\n",
        "cap = cv2.VideoCapture(0)\n",
        "cap.set(3, 1280)\n",
        "cap.set(4, 720)\n",
        "\n",
        "detector = htm.handDetector(detectionCon=0.65, maxHands=1)\n",
        "xp, yp = 0, 0\n",
        "imgCanvas = np.zeros((720, 1280, 3), np.uint8)\n",
        "\n",
        "while True:\n",
        "    success, img = cap.read()\n",
        "    img = cv2.flip(img, 1)\n",
        "\n",
        "    img = detector.findHands(img)\n",
        "    lmList, _ = detector.findPosition(img, draw=False)\n",
        "\n",
        "    if len(lmList) != 0:\n",
        "        x1, y1 = lmList[8][1:]  # Index Finger Tip\n",
        "        x2, y2 = lmList[12][1:] # Middle Finger Tip\n",
        "\n",
        "        fingers = detector.fingersUp()\n",
        "\n",
        "        # Selection Mode (Index + Middle Finger Up)\n",
        "        if fingers[1] and fingers[2] and not fingers[3] and not fingers[4]:  \n",
        "            if y1 < 120:\n",
        "                if 668 < x1 < 780:\n",
        "                    header = overlayList[0]\n",
        "                    drawColor = (128, 0, 128)  # Fix - Correct Purple\n",
        "                elif 815 < x1 < 923:\n",
        "                    header = overlayList[1]\n",
        "                    drawColor = (255, 0, 0)  # Fix - Correct Blue\n",
        "                elif 956 < x1 < 1065:\n",
        "                    header = overlayList[2]\n",
        "                    drawColor = (0, 255, 0)  # Fix - Correct Green\n",
        "                elif 1115 < x1 < 1200:\n",
        "                    header = overlayList[3]\n",
        "                    drawColor = (0, 0, 0)  # Eraser\n",
        "\n",
        "            xp, yp = 0, 0  # Reset previous points to fix unwanted lines\n",
        "            cv2.rectangle(img, (x1, y1 - 25), (x2, y2 + 25), drawColor, cv2.FILLED)\n",
        "\n",
        "        # Erasing Mode (Full Hand Open)\n",
        "        elif all(fingers):  \n",
        "            cv2.circle(img, (x1, y1), 50, (0, 0, 0), cv2.FILLED)\n",
        "            cv2.line(imgCanvas, (xp, yp), (x1, y1), (0, 0, 0), eraserThickness)\n",
        "            xp, yp = x1, y1\n",
        "\n",
        "        # Drawing Mode (Only Index Finger Up)\n",
        "        elif fingers[1] and not fingers[2]:  \n",
        "            cv2.circle(img, (x1, y1), 15, drawColor, cv2.FILLED)\n",
        "            if xp == 0 and yp == 0:\n",
        "                xp, yp = x1, y1  # Start new stroke\n",
        "            cv2.line(imgCanvas, (xp, yp), (x1, y1), drawColor, brushThickness)\n",
        "            xp, yp = x1, y1\n",
        "        else:\n",
        "            xp, yp = 0, 0  # Reset points when fingers are lifted\n",
        "\n",
        "    # Merge layers\n",
        "    imgGray = cv2.cvtColor(imgCanvas, cv2.COLOR_BGR2GRAY)\n",
        "    _, imgInv = cv2.threshold(imgGray, 50, 255, cv2.THRESH_BINARY_INV)\n",
        "    imgInv = cv2.cvtColor(imgInv, cv2.COLOR_GRAY2BGR)\n",
        "    img = cv2.bitwise_and(img, imgInv)\n",
        "    img = cv2.bitwise_or(img, imgCanvas)\n",
        "\n",
        "    img[0:120, 0:1280] = header\n",
        "    cv2.imshow(\"Image\", img)\n",
        "    cv2.imshow(\"Canvas\", imgCanvas)\n",
        "    if cv2.waitKey(1) & 0xFF == ord('q'):\n",
        "            break\n",
        "\n",
        "```\n",
        "\n",
        "\n"
      ],
      "metadata": {
        "id": "5g7LKimYqRtb"
      }
    }
  ]
}